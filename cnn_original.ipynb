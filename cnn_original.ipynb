{
 "cells": [
  {
   "cell_type": "code",
   "execution_count": 1,
   "metadata": {},
   "outputs": [
    {
     "name": "stderr",
     "output_type": "stream",
     "text": [
      "Using TensorFlow backend.\n"
     ]
    }
   ],
   "source": [
    "import cv2\n",
    "import numpy as np\n",
    "from matplotlib import pyplot as plt\n",
    "from keras.optimizers import SGD, RMSprop, Adam, Adagrad, Adadelta\n",
    "import itertools\n",
    "import numpy as np"
   ]
  },
  {
   "cell_type": "code",
   "execution_count": 2,
   "metadata": {},
   "outputs": [],
   "source": [
    "x = np.load(\"x.npy\")\n",
    "y = np.load(\"y.npy\")"
   ]
  },
  {
   "cell_type": "code",
   "execution_count": 3,
   "metadata": {},
   "outputs": [],
   "source": [
    "from sklearn.model_selection import train_test_split\n",
    "from sklearn import datasets, linear_model\n",
    "\n",
    "x_train, x_test, y_train, y_test = train_test_split(x,y,stratify=y)"
   ]
  },
  {
   "cell_type": "code",
   "execution_count": 4,
   "metadata": {},
   "outputs": [
    {
     "name": "stdout",
     "output_type": "stream",
     "text": [
      "305\n",
      "102\n",
      "305\n",
      "102\n"
     ]
    }
   ],
   "source": [
    "print(len(x_train))\n",
    "print(len(x_test))\n",
    "print(len(y_train))\n",
    "print(len(y_test))\n",
    "\n",
    "x_train = np.array(x_train)\n",
    "x_test = np.array(x_test)\n",
    "y_train = np.array(y_train)\n",
    "y_test = np.array(y_test)"
   ]
  },
  {
   "cell_type": "code",
   "execution_count": 5,
   "metadata": {},
   "outputs": [
    {
     "name": "stdout",
     "output_type": "stream",
     "text": [
      "(305, 224, 224, 3)\n",
      "(102, 224, 224, 3)\n",
      "(305,)\n",
      "(102,)\n"
     ]
    }
   ],
   "source": [
    "print(x_train.shape)\n",
    "print(x_test.shape)\n",
    "print(y_train.shape)\n",
    "print(y_test.shape)"
   ]
  },
  {
   "cell_type": "code",
   "execution_count": 6,
   "metadata": {},
   "outputs": [],
   "source": [
    "from keras.utils import to_categorical\n",
    "\n",
    "y_train_oh = to_categorical(y_train, num_classes = 2)\n",
    "y_test_oh = to_categorical(y_test, num_classes = 2)"
   ]
  },
  {
   "cell_type": "code",
   "execution_count": 7,
   "metadata": {},
   "outputs": [
    {
     "name": "stdout",
     "output_type": "stream",
     "text": [
      "(305, 2)\n",
      "(102, 2)\n"
     ]
    }
   ],
   "source": [
    "print(y_train_oh.shape)\n",
    "print(y_test_oh.shape)"
   ]
  },
  {
   "cell_type": "code",
   "execution_count": 8,
   "metadata": {},
   "outputs": [],
   "source": [
    "import keras\n",
    "from keras.models import Sequential,Input,Model\n",
    "from keras.layers import Dense, Dropout, Flatten\n",
    "from keras.layers import Conv2D, MaxPooling2D\n",
    "from keras.layers.normalization import BatchNormalization\n",
    "from keras.layers.advanced_activations import LeakyReLU"
   ]
  },
  {
   "cell_type": "code",
   "execution_count": 9,
   "metadata": {},
   "outputs": [],
   "source": [
    "batch_size = 16\n",
    "epochs = 20\n",
    "num_classes = 2"
   ]
  },
  {
   "cell_type": "code",
   "execution_count": 10,
   "metadata": {},
   "outputs": [
    {
     "name": "stdout",
     "output_type": "stream",
     "text": [
      "Input shape is (224, 224, 3)\n",
      "_________________________________________________________________\n",
      "Layer (type)                 Output Shape              Param #   \n",
      "=================================================================\n",
      "conv2d_1 (Conv2D)            (None, 222, 222, 32)      896       \n",
      "_________________________________________________________________\n",
      "max_pooling2d_1 (MaxPooling2 (None, 111, 111, 32)      0         \n",
      "_________________________________________________________________\n",
      "dropout_1 (Dropout)          (None, 111, 111, 32)      0         \n",
      "_________________________________________________________________\n",
      "conv2d_2 (Conv2D)            (None, 109, 109, 64)      18496     \n",
      "_________________________________________________________________\n",
      "max_pooling2d_2 (MaxPooling2 (None, 54, 54, 64)        0         \n",
      "_________________________________________________________________\n",
      "dropout_2 (Dropout)          (None, 54, 54, 64)        0         \n",
      "_________________________________________________________________\n",
      "conv2d_3 (Conv2D)            (None, 52, 52, 128)       73856     \n",
      "_________________________________________________________________\n",
      "dropout_3 (Dropout)          (None, 52, 52, 128)       0         \n",
      "_________________________________________________________________\n",
      "flatten_1 (Flatten)          (None, 346112)            0         \n",
      "_________________________________________________________________\n",
      "dense_1 (Dense)              (None, 128)               44302464  \n",
      "_________________________________________________________________\n",
      "dropout_4 (Dropout)          (None, 128)               0         \n",
      "_________________________________________________________________\n",
      "dense_2 (Dense)              (None, 2)                 258       \n",
      "=================================================================\n",
      "Total params: 44,395,970\n",
      "Trainable params: 44,395,970\n",
      "Non-trainable params: 0\n",
      "_________________________________________________________________\n",
      "done\n"
     ]
    }
   ],
   "source": [
    "    img_rows, img_cols = x_train.shape[1],x_train.shape[2]\n",
    "    input_shape = (img_rows, img_cols, 3)\n",
    "    print(\"Input shape is\",input_shape)\n",
    "    \n",
    "    model = Sequential()\n",
    "    model.add(Conv2D(32, kernel_size=(3, 3),\n",
    "                     activation='relu',\n",
    "                     kernel_initializer='he_normal',\n",
    "                     input_shape=input_shape))\n",
    "    model.add(MaxPooling2D((2, 2)))\n",
    "    model.add(Dropout(0.25))\n",
    "    model.add(Conv2D(64, (3, 3), activation='relu'))\n",
    "    model.add(MaxPooling2D(pool_size=(2, 2)))\n",
    "    model.add(Dropout(0.25))\n",
    "    model.add(Conv2D(128, (3, 3), activation='relu'))\n",
    "    model.add(Dropout(0.4))\n",
    "    model.add(Flatten())\n",
    "    model.add(Dense(128, activation='relu'))\n",
    "    model.add(Dropout(0.3))\n",
    "    model.add(Dense(num_classes, activation='softmax'))\n",
    "    \n",
    "    model.summary()\n",
    "        \n",
    "    optimizer = SGD(lr=0.00000000001)\n",
    "\n",
    "    model.compile(optimizer = optimizer , loss = \"binary_crossentropy\", metrics=[\"accuracy\"])\n",
    "    print(\"done\")"
   ]
  },
  {
   "cell_type": "code",
   "execution_count": 11,
   "metadata": {},
   "outputs": [
    {
     "name": "stdout",
     "output_type": "stream",
     "text": [
      "Train on 305 samples, validate on 102 samples\n",
      "Epoch 1/20\n",
      "305/305 [==============================] - 6s 19ms/step - loss: 7.6253 - acc: 0.5148 - val_loss: 8.0151 - val_acc: 0.5000\n",
      "Epoch 2/20\n",
      "305/305 [==============================] - 1s 4ms/step - loss: 8.0685 - acc: 0.4951 - val_loss: 8.0151 - val_acc: 0.5000\n",
      "Epoch 3/20\n",
      "305/305 [==============================] - 1s 4ms/step - loss: 7.8936 - acc: 0.4984 - val_loss: 8.0151 - val_acc: 0.5000\n",
      "Epoch 4/20\n",
      "305/305 [==============================] - 1s 4ms/step - loss: 7.8086 - acc: 0.5082 - val_loss: 8.0151 - val_acc: 0.5000\n",
      "Epoch 5/20\n",
      "305/305 [==============================] - 1s 4ms/step - loss: 7.9114 - acc: 0.4951 - val_loss: 8.0151 - val_acc: 0.5000\n",
      "Epoch 6/20\n",
      "305/305 [==============================] - 1s 4ms/step - loss: 8.1072 - acc: 0.4885 - val_loss: 8.0151 - val_acc: 0.5000\n",
      "Epoch 7/20\n",
      "305/305 [==============================] - 1s 4ms/step - loss: 7.7921 - acc: 0.5082 - val_loss: 8.0151 - val_acc: 0.5000\n",
      "Epoch 8/20\n",
      "305/305 [==============================] - 1s 4ms/step - loss: 7.9755 - acc: 0.5016 - val_loss: 8.0151 - val_acc: 0.5000\n",
      "Epoch 9/20\n",
      "305/305 [==============================] - 1s 4ms/step - loss: 7.4997 - acc: 0.5246 - val_loss: 8.0151 - val_acc: 0.5000\n",
      "Epoch 10/20\n",
      "305/305 [==============================] - 1s 4ms/step - loss: 7.5865 - acc: 0.5213 - val_loss: 8.0151 - val_acc: 0.5000\n",
      "Epoch 11/20\n",
      "305/305 [==============================] - 1s 4ms/step - loss: 7.7160 - acc: 0.5148 - val_loss: 8.0151 - val_acc: 0.5000\n",
      "Epoch 12/20\n",
      "305/305 [==============================] - 1s 4ms/step - loss: 7.8538 - acc: 0.5016 - val_loss: 8.0151 - val_acc: 0.5000\n",
      "Epoch 13/20\n",
      "305/305 [==============================] - 1s 4ms/step - loss: 7.9603 - acc: 0.4951 - val_loss: 8.0151 - val_acc: 0.5000\n",
      "Epoch 14/20\n",
      "305/305 [==============================] - 1s 4ms/step - loss: 7.6395 - acc: 0.5213 - val_loss: 8.0151 - val_acc: 0.5000\n",
      "Epoch 15/20\n",
      "305/305 [==============================] - 1s 4ms/step - loss: 7.6707 - acc: 0.5213 - val_loss: 8.0151 - val_acc: 0.5000\n",
      "Epoch 16/20\n",
      "305/305 [==============================] - 1s 4ms/step - loss: 7.5883 - acc: 0.5246 - val_loss: 8.0151 - val_acc: 0.5000\n",
      "Epoch 17/20\n",
      "305/305 [==============================] - 1s 4ms/step - loss: 8.0024 - acc: 0.4951 - val_loss: 8.0151 - val_acc: 0.5000\n",
      "Epoch 18/20\n",
      "305/305 [==============================] - 1s 4ms/step - loss: 7.4539 - acc: 0.5311 - val_loss: 8.0151 - val_acc: 0.5000\n",
      "Epoch 19/20\n",
      "305/305 [==============================] - 1s 4ms/step - loss: 7.7807 - acc: 0.5082 - val_loss: 8.0151 - val_acc: 0.5000\n",
      "Epoch 20/20\n",
      "305/305 [==============================] - 1s 4ms/step - loss: 7.6440 - acc: 0.5180 - val_loss: 8.0151 - val_acc: 0.5000\n"
     ]
    }
   ],
   "source": [
    "history = model.fit(x_train, y_train_oh, batch_size=batch_size,epochs=epochs\n",
    "                            ,verbose=1,validation_data=(x_test, y_test_oh))"
   ]
  },
  {
   "cell_type": "code",
   "execution_count": 12,
   "metadata": {},
   "outputs": [
    {
     "name": "stdout",
     "output_type": "stream",
     "text": [
      "102/102 [==============================] - 0s 2ms/step\n"
     ]
    }
   ],
   "source": [
    "test_eval = model.evaluate(x_test,y_test_oh,verbose = 1)"
   ]
  },
  {
   "cell_type": "code",
   "execution_count": 13,
   "metadata": {},
   "outputs": [
    {
     "name": "stdout",
     "output_type": "stream",
     "text": [
      "Test loss: 8.01511955261\n",
      "Test accuracy: 0.5\n"
     ]
    },
    {
     "data": {
      "image/png": "[encoded data removed]",
      "text/plain": [
       "<matplotlib.figure.Figure at 0x21616160470>"
      ]
     },
     "metadata": {},
     "output_type": "display_data"
    },
    {
     "data": {
      "image/png": "[encoded data removed]",
      "text/plain": [
       "<matplotlib.figure.Figure at 0x216014de828>"
      ]
     },
     "metadata": {},
     "output_type": "display_data"
    }
   ],
   "source": [
    "print('Test loss:', test_eval[0])\n",
    "print('Test accuracy:', test_eval[1])\n",
    "accuracy = history.history['acc']\n",
    "val_accuracy = history.history['val_acc']\n",
    "loss = history.history['loss']\n",
    "val_loss = history.history['val_loss']\n",
    "epochs = range(len(accuracy))\n",
    "plt.plot(epochs, accuracy, 'bo', label='Training accuracy')\n",
    "plt.plot(epochs, val_accuracy, 'b', label='Validation accuracy')\n",
    "plt.title('Training and validation accuracy')\n",
    "plt.legend()\n",
    "plt.figure()\n",
    "plt.plot(epochs, loss, 'bo', label='Training loss')\n",
    "plt.plot(epochs, val_loss, 'b', label='Validation loss')\n",
    "plt.title('Training and validation loss')\n",
    "plt.legend()\n",
    "plt.show()\n",
    "\n"
   ]
  },
  {
   "cell_type": "code",
   "execution_count": 14,
   "metadata": {},
   "outputs": [],
   "source": [
    "y_pred = model.predict(x_test)\n",
    "y_pred = np.argmax(y_pred,axis = 1) \n"
   ]
  },
  {
   "cell_type": "code",
   "execution_count": null,
   "metadata": {},
   "outputs": [],
   "source": []
  }
 ],
 "metadata": {
  "kernelspec": {
   "display_name": "Python 3",
   "language": "python",
   "name": "python3"
  },
  "language_info": {
   "codemirror_mode": {
    "name": "ipython",
    "version": 3
   },
   "file_extension": ".py",
   "mimetype": "text/x-python",
   "name": "python",
   "nbconvert_exporter": "python",
   "pygments_lexer": "ipython3",
   "version": "3.6.3"
  }
 },
 "nbformat": 4,
 "nbformat_minor": 2
}

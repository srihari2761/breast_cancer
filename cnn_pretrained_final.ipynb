{
 "cells": [
  {
   "cell_type": "code",
   "execution_count": 1,
   "metadata": {},
   "outputs": [
    {
     "name": "stderr",
     "output_type": "stream",
     "text": [
      "Using TensorFlow backend.\n"
     ]
    }
   ],
   "source": [
    "import cv2\n",
    "import numpy as np\n",
    "from matplotlib import pyplot as plt\n",
    "from keras.optimizers import SGD, RMSprop, Adam, Adagrad, Adadelta\n",
    "import itertools\n",
    "import numpy as np"
   ]
  },
  {
   "cell_type": "code",
   "execution_count": 2,
   "metadata": {},
   "outputs": [],
   "source": [
    "x = np.load(\"x.npy\")\n",
    "y = np.load(\"y.npy\")"
   ]
  },
  {
   "cell_type": "code",
   "execution_count": 3,
   "metadata": {},
   "outputs": [],
   "source": [
    "from sklearn.model_selection import train_test_split\n",
    "from sklearn import datasets, linear_model\n",
    "\n",
    "x_train, x_test, y_train, y_test = train_test_split(x,y,stratify=y)"
   ]
  },
  {
   "cell_type": "code",
   "execution_count": 4,
   "metadata": {},
   "outputs": [
    {
     "name": "stdout",
     "output_type": "stream",
     "text": [
      "305\n",
      "102\n",
      "305\n",
      "102\n"
     ]
    }
   ],
   "source": [
    "print(len(x_train))\n",
    "print(len(x_test))\n",
    "print(len(y_train))\n",
    "print(len(y_test))\n",
    "\n",
    "x_train = np.array(x_train)\n",
    "x_test = np.array(x_test)\n",
    "y_train = np.array(y_train)\n",
    "y_test = np.array(y_test)"
   ]
  },
  {
   "cell_type": "code",
   "execution_count": 5,
   "metadata": {},
   "outputs": [
    {
     "name": "stdout",
     "output_type": "stream",
     "text": [
      "(305, 224, 224, 3)\n",
      "(102, 224, 224, 3)\n",
      "(305,)\n",
      "(102,)\n"
     ]
    }
   ],
   "source": [
    "print(x_train.shape)\n",
    "print(x_test.shape)\n",
    "print(y_train.shape)\n",
    "print(y_test.shape)"
   ]
  },
  {
   "cell_type": "code",
   "execution_count": 6,
   "metadata": {},
   "outputs": [],
   "source": [
    "from keras.utils import to_categorical\n",
    "\n",
    "y_train_oh = to_categorical(y_train, num_classes = 2)\n",
    "y_test_oh = to_categorical(y_test, num_classes = 2)"
   ]
  },
  {
   "cell_type": "code",
   "execution_count": 7,
   "metadata": {},
   "outputs": [
    {
     "name": "stdout",
     "output_type": "stream",
     "text": [
      "(305, 2)\n",
      "(102, 2)\n"
     ]
    }
   ],
   "source": [
    "print(y_train_oh.shape)\n",
    "print(y_test_oh.shape)"
   ]
  },
  {
   "cell_type": "code",
   "execution_count": 8,
   "metadata": {},
   "outputs": [],
   "source": [
    "import keras\n",
    "from keras.models import Sequential,Input,Model\n",
    "from keras.layers import Dense, Dropout, Flatten\n",
    "from keras.layers import Conv2D, MaxPooling2D\n",
    "from keras.layers.normalization import BatchNormalization\n",
    "from keras.layers.advanced_activations import LeakyReLU"
   ]
  },
  {
   "cell_type": "code",
   "execution_count": 9,
   "metadata": {},
   "outputs": [],
   "source": [
    "batch_size = 32\n",
    "epochs = 20\n",
    "num_classes = 2"
   ]
  },
  {
   "cell_type": "code",
   "execution_count": 10,
   "metadata": {},
   "outputs": [],
   "source": [
    "from keras.applications import VGG16\n",
    "#Load the VGG model\n",
    "vgg_conv = VGG16(weights='imagenet', include_top=False, input_shape=(224,224, 3))"
   ]
  },
  {
   "cell_type": "code",
   "execution_count": 11,
   "metadata": {},
   "outputs": [
    {
     "name": "stdout",
     "output_type": "stream",
     "text": [
      "_________________________________________________________________\n",
      "Layer (type)                 Output Shape              Param #   \n",
      "=================================================================\n",
      "input_1 (InputLayer)         (None, 224, 224, 3)       0         \n",
      "_________________________________________________________________\n",
      "block1_conv1 (Conv2D)        (None, 224, 224, 64)      1792      \n",
      "_________________________________________________________________\n",
      "block1_conv2 (Conv2D)        (None, 224, 224, 64)      36928     \n",
      "_________________________________________________________________\n",
      "block1_pool (MaxPooling2D)   (None, 112, 112, 64)      0         \n",
      "_________________________________________________________________\n",
      "block2_conv1 (Conv2D)        (None, 112, 112, 128)     73856     \n",
      "_________________________________________________________________\n",
      "block2_conv2 (Conv2D)        (None, 112, 112, 128)     147584    \n",
      "_________________________________________________________________\n",
      "block2_pool (MaxPooling2D)   (None, 56, 56, 128)       0         \n",
      "_________________________________________________________________\n",
      "block3_conv1 (Conv2D)        (None, 56, 56, 256)       295168    \n",
      "_________________________________________________________________\n",
      "block3_conv2 (Conv2D)        (None, 56, 56, 256)       590080    \n",
      "_________________________________________________________________\n",
      "block3_conv3 (Conv2D)        (None, 56, 56, 256)       590080    \n",
      "_________________________________________________________________\n",
      "block3_pool (MaxPooling2D)   (None, 28, 28, 256)       0         \n",
      "_________________________________________________________________\n",
      "block4_conv1 (Conv2D)        (None, 28, 28, 512)       1180160   \n",
      "_________________________________________________________________\n",
      "block4_conv2 (Conv2D)        (None, 28, 28, 512)       2359808   \n",
      "_________________________________________________________________\n",
      "block4_conv3 (Conv2D)        (None, 28, 28, 512)       2359808   \n",
      "_________________________________________________________________\n",
      "block4_pool (MaxPooling2D)   (None, 14, 14, 512)       0         \n",
      "_________________________________________________________________\n",
      "block5_conv1 (Conv2D)        (None, 14, 14, 512)       2359808   \n",
      "_________________________________________________________________\n",
      "block5_conv2 (Conv2D)        (None, 14, 14, 512)       2359808   \n",
      "_________________________________________________________________\n",
      "block5_conv3 (Conv2D)        (None, 14, 14, 512)       2359808   \n",
      "_________________________________________________________________\n",
      "block5_pool (MaxPooling2D)   (None, 7, 7, 512)         0         \n",
      "=================================================================\n",
      "Total params: 14,714,688\n",
      "Trainable params: 14,714,688\n",
      "Non-trainable params: 0\n",
      "_________________________________________________________________\n"
     ]
    }
   ],
   "source": [
    "vgg_conv.summary()"
   ]
  },
  {
   "cell_type": "code",
   "execution_count": 12,
   "metadata": {},
   "outputs": [
    {
     "name": "stdout",
     "output_type": "stream",
     "text": [
      "<keras.engine.input_layer.InputLayer object at 0x00000224E4FADE10> False\n",
      "<keras.layers.convolutional.Conv2D object at 0x00000224E91BFE48> False\n",
      "<keras.layers.convolutional.Conv2D object at 0x00000224E91BFBA8> False\n",
      "<keras.layers.pooling.MaxPooling2D object at 0x00000224E91BFCF8> False\n",
      "<keras.layers.convolutional.Conv2D object at 0x00000224E91EEC50> False\n",
      "<keras.layers.convolutional.Conv2D object at 0x00000224EA0B9CF8> False\n",
      "<keras.layers.pooling.MaxPooling2D object at 0x00000224EA0D5128> False\n",
      "<keras.layers.convolutional.Conv2D object at 0x00000224EA0EB7F0> False\n",
      "<keras.layers.convolutional.Conv2D object at 0x00000224EA108BA8> False\n",
      "<keras.layers.convolutional.Conv2D object at 0x00000224EA11A320> False\n",
      "<keras.layers.pooling.MaxPooling2D object at 0x00000224EA130940> False\n",
      "<keras.layers.convolutional.Conv2D object at 0x00000224EA14CB00> False\n",
      "<keras.layers.convolutional.Conv2D object at 0x00000224EA168E80> False\n",
      "<keras.layers.convolutional.Conv2D object at 0x00000224EA17DAC8> False\n",
      "<keras.layers.pooling.MaxPooling2D object at 0x00000224EA18F0B8> False\n",
      "<keras.layers.convolutional.Conv2D object at 0x00000224EA1AC828> True\n",
      "<keras.layers.convolutional.Conv2D object at 0x00000224EA1C0BA8> True\n",
      "<keras.layers.convolutional.Conv2D object at 0x00000224EA1C08D0> True\n",
      "<keras.layers.pooling.MaxPooling2D object at 0x00000224EA1F2630> True\n"
     ]
    }
   ],
   "source": [
    "# Freeze the layers except the last 4 layers\n",
    "for layer in vgg_conv.layers[:-4]:\n",
    "    layer.trainable = False\n",
    " \n",
    "# Check the trainable status of the individual layers\n",
    "for layer in vgg_conv.layers:\n",
    "    print(layer, layer.trainable)"
   ]
  },
  {
   "cell_type": "code",
   "execution_count": 13,
   "metadata": {
    "scrolled": true
   },
   "outputs": [
    {
     "name": "stdout",
     "output_type": "stream",
     "text": [
      "_________________________________________________________________\n",
      "Layer (type)                 Output Shape              Param #   \n",
      "=================================================================\n",
      "vgg16 (Model)                (None, 7, 7, 512)         14714688  \n",
      "_________________________________________________________________\n",
      "flatten_1 (Flatten)          (None, 25088)             0         \n",
      "_________________________________________________________________\n",
      "dense_1 (Dense)              (None, 1024)              25691136  \n",
      "_________________________________________________________________\n",
      "dropout_1 (Dropout)          (None, 1024)              0         \n",
      "_________________________________________________________________\n",
      "dense_2 (Dense)              (None, 2)                 2050      \n",
      "=================================================================\n",
      "Total params: 40,407,874\n",
      "Trainable params: 32,772,610\n",
      "Non-trainable params: 7,635,264\n",
      "_________________________________________________________________\n"
     ]
    }
   ],
   "source": [
    "from keras import models\n",
    "from keras import layers\n",
    "from keras import optimizers\n",
    " \n",
    "# Create the model\n",
    "model = models.Sequential()\n",
    " \n",
    "# Add the vgg convolutional base model\n",
    "model.add(vgg_conv)\n",
    " \n",
    "# Add new layers\n",
    "model.add(layers.Flatten())\n",
    "model.add(layers.Dense(1024, activation='relu'))\n",
    "model.add(layers.Dropout(0.5))\n",
    "model.add(layers.Dense(2, activation='softmax'))\n",
    " \n",
    "# Show a summary of the model. Check the number of trainable parameters\n",
    "model.summary()"
   ]
  },
  {
   "cell_type": "code",
   "execution_count": 14,
   "metadata": {},
   "outputs": [],
   "source": [
    "optimizer=optimizers.RMSprop(lr=1e-4)\n",
    "model.compile(optimizer = optimizer , loss = \"binary_crossentropy\", metrics=[\"accuracy\"])\n"
   ]
  },
  {
   "cell_type": "code",
   "execution_count": 15,
   "metadata": {},
   "outputs": [],
   "source": [
    "#     img_rows, img_cols = x_train.shape[1],x_train.shape[2]\n",
    "#     input_shape = (img_rows, img_cols, 3)\n",
    "#     print(\"Input shape is\",input_shape)\n",
    "    \n",
    "#     model = Sequential()\n",
    "#     model.add(Conv2D(32, kernel_size=(3, 3),\n",
    "#                      activation='relu',\n",
    "#                      kernel_initializer='he_normal',\n",
    "#                      input_shape=input_shape))\n",
    "#     model.add(MaxPooling2D((2, 2)))\n",
    "#     model.add(Dropout(0.25))\n",
    "#     model.add(Conv2D(64, (3, 3), activation='relu'))\n",
    "#     model.add(MaxPooling2D(pool_size=(2, 2)))\n",
    "#     model.add(Dropout(0.25))\n",
    "#     model.add(Conv2D(128, (3, 3), activation='relu'))\n",
    "#     model.add(Dropout(0.4))\n",
    "#     model.add(Flatten())\n",
    "#     model.add(Dense(128, activation='relu'))\n",
    "#     model.add(Dropout(0.3))\n",
    "#     model.add(Dense(num_classes, activation='softmax'))\n",
    "    \n",
    "#     model.summary()\n",
    "        \n",
    "#     optimizer = SGD(lr=0.00000000001)\n",
    "\n",
    "#     model.compile(optimizer = optimizer , loss = \"binary_crossentropy\", metrics=[\"accuracy\"])\n",
    "#     print(\"done\")"
   ]
  },
  {
   "cell_type": "code",
   "execution_count": 16,
   "metadata": {},
   "outputs": [
    {
     "name": "stdout",
     "output_type": "stream",
     "text": [
      "Train on 305 samples, validate on 102 samples\n",
      "Epoch 1/20\n",
      "305/305 [==============================] - 8s 26ms/step - loss: 4.2793 - acc: 0.6656 - val_loss: 1.1004 - val_acc: 0.9020\n",
      "Epoch 2/20\n",
      "305/305 [==============================] - 2s 7ms/step - loss: 0.4189 - acc: 0.9344 - val_loss: 0.7542 - val_acc: 0.8824\n",
      "Epoch 3/20\n",
      "305/305 [==============================] - 2s 7ms/step - loss: 0.0886 - acc: 0.9836 - val_loss: 1.1189 - val_acc: 0.8824\n",
      "Epoch 4/20\n",
      "305/305 [==============================] - 2s 7ms/step - loss: 0.2377 - acc: 0.9541 - val_loss: 0.6062 - val_acc: 0.8824\n",
      "Epoch 5/20\n",
      "305/305 [==============================] - 2s 7ms/step - loss: 0.1620 - acc: 0.9738 - val_loss: 1.8023 - val_acc: 0.6765\n",
      "Epoch 6/20\n",
      "305/305 [==============================] - 2s 7ms/step - loss: 0.3096 - acc: 0.9607 - val_loss: 0.5767 - val_acc: 0.8824\n",
      "Epoch 7/20\n",
      "305/305 [==============================] - 2s 7ms/step - loss: 0.1137 - acc: 0.9902 - val_loss: 0.9789 - val_acc: 0.9020\n",
      "Epoch 8/20\n",
      "305/305 [==============================] - 2s 7ms/step - loss: 0.1053 - acc: 0.9934 - val_loss: 0.9229 - val_acc: 0.9118\n",
      "Epoch 9/20\n",
      "305/305 [==============================] - 2s 7ms/step - loss: 0.1053 - acc: 0.9934 - val_loss: 1.1339 - val_acc: 0.9020\n",
      "Epoch 10/20\n",
      "305/305 [==============================] - 2s 7ms/step - loss: 0.5975 - acc: 0.9213 - val_loss: 0.5428 - val_acc: 0.8824\n",
      "Epoch 11/20\n",
      "305/305 [==============================] - 2s 8ms/step - loss: 0.0513 - acc: 0.9902 - val_loss: 0.6833 - val_acc: 0.9020\n",
      "Epoch 12/20\n",
      "305/305 [==============================] - 2s 7ms/step - loss: 2.5165e-04 - acc: 1.0000 - val_loss: 0.6972 - val_acc: 0.9020\n",
      "Epoch 13/20\n",
      "305/305 [==============================] - 2s 7ms/step - loss: 4.2873e-04 - acc: 1.0000 - val_loss: 0.5530 - val_acc: 0.9118\n",
      "Epoch 14/20\n",
      "305/305 [==============================] - 2s 7ms/step - loss: 5.1154e-05 - acc: 1.0000 - val_loss: 0.5894 - val_acc: 0.9020\n",
      "Epoch 15/20\n",
      "305/305 [==============================] - 2s 7ms/step - loss: 9.7676e-05 - acc: 1.0000 - val_loss: 0.6408 - val_acc: 0.9020\n",
      "Epoch 16/20\n",
      "305/305 [==============================] - 2s 7ms/step - loss: 7.3956e-05 - acc: 1.0000 - val_loss: 0.8163 - val_acc: 0.9020\n",
      "Epoch 17/20\n",
      "305/305 [==============================] - 2s 7ms/step - loss: 0.0557 - acc: 0.9934 - val_loss: 1.0698 - val_acc: 0.8039\n",
      "Epoch 18/20\n",
      "305/305 [==============================] - 2s 7ms/step - loss: 0.1825 - acc: 0.9672 - val_loss: 0.9669 - val_acc: 0.9020\n",
      "Epoch 19/20\n",
      "305/305 [==============================] - 2s 7ms/step - loss: 0.0782 - acc: 0.9902 - val_loss: 0.7178 - val_acc: 0.8725\n",
      "Epoch 20/20\n",
      "305/305 [==============================] - 2s 7ms/step - loss: 0.2328 - acc: 0.9705 - val_loss: 1.1540 - val_acc: 0.8922\n"
     ]
    }
   ],
   "source": [
    "history = model.fit(x_train, y_train_oh, batch_size=batch_size,epochs=epochs\n",
    "                            ,verbose=1,validation_data=(x_test, y_test_oh))"
   ]
  },
  {
   "cell_type": "code",
   "execution_count": 17,
   "metadata": {},
   "outputs": [
    {
     "name": "stdout",
     "output_type": "stream",
     "text": [
      "102/102 [==============================] - 0s 5ms/step\n"
     ]
    }
   ],
   "source": [
    "test_eval = model.evaluate(x_test,y_test_oh,verbose = 1)"
   ]
  },
  {
   "cell_type": "code",
   "execution_count": 18,
   "metadata": {},
   "outputs": [
    {
     "name": "stdout",
     "output_type": "stream",
     "text": [
      "Test loss: 1.15395455734\n",
      "Test accuracy: 0.892156863914\n"
     ]
    },
    {
     "data": {
      "image/png": "[encoded data removed]",
      "text/plain": [
       "<matplotlib.figure.Figure at 0x224851c8390>"
      ]
     },
     "metadata": {},
     "output_type": "display_data"
    },
    {
     "data": {
      "image/png": "[encoded data removed]",
      "text/plain": [
       "<matplotlib.figure.Figure at 0x22485162e48>"
      ]
     },
     "metadata": {},
     "output_type": "display_data"
    }
   ],
   "source": [
    "print('Test loss:', test_eval[0])\n",
    "print('Test accuracy:', test_eval[1])\n",
    "accuracy = history.history['acc']\n",
    "val_accuracy = history.history['val_acc']\n",
    "loss = history.history['loss']\n",
    "val_loss = history.history['val_loss']\n",
    "epochs = range(len(accuracy))\n",
    "plt.plot(epochs, accuracy, 'bo', label='Training accuracy')\n",
    "plt.plot(epochs, val_accuracy, 'b', label='Validation accuracy')\n",
    "plt.title('Training and validation accuracy')\n",
    "plt.legend()\n",
    "plt.figure()\n",
    "plt.plot(epochs, loss, 'bo', label='Training loss')\n",
    "plt.plot(epochs, val_loss, 'b', label='Validation loss')\n",
    "plt.title('Training and validation loss')\n",
    "plt.legend()\n",
    "plt.show()\n",
    "\n"
   ]
  },
  {
   "cell_type": "code",
   "execution_count": 19,
   "metadata": {},
   "outputs": [],
   "source": [
    "y_pred = model.predict(x_test)\n",
    "y_pred = np.argmax(y_pred,axis = 1) \n"
   ]
  },
  {
   "cell_type": "code",
   "execution_count": 20,
   "metadata": {},
   "outputs": [],
   "source": [
    "from sklearn.metrics import confusion_matrix\n",
    "def plot_confusion_matrix(cm, classes,\n",
    "                          normalize=False,\n",
    "                          title='Confusion matrix',\n",
    "                          cmap=plt.cm.Blues):\n",
    "    \"\"\"\n",
    "    This function prints and plots the confusion matrix.\n",
    "    Normalization can be applied by setting `normalize=True`.\n",
    "    \"\"\"\n",
    "    plt.figure(figsize = (10,10))\n",
    "    plt.imshow(cm, interpolation='nearest', cmap=cmap)\n",
    "    plt.title(title)\n",
    "    plt.colorbar()\n",
    "    tick_marks = np.arange(len(classes))\n",
    "    plt.xticks(tick_marks, classes, rotation=90)\n",
    "    plt.yticks(tick_marks, classes)\n",
    "    if normalize:\n",
    "        cm = cm.astype('float') / cm.sum(axis=1)[:, np.newaxis]\n",
    "\n",
    "    thresh = cm.max() / 2.\n",
    "    for i, j in itertools.product(range(cm.shape[0]), range(cm.shape[1])):\n",
    "        plt.text(j, i, cm[i, j],\n",
    "                 horizontalalignment=\"center\",\n",
    "                 color=\"white\" if cm[i, j] > thresh else \"black\")\n",
    "    plt.tight_layout()\n",
    "    plt.ylabel('True label')\n",
    "    plt.xlabel('Predicted label')\n",
    "    plt.savefig('importantconfusion_matrix.png', format='png')\n",
    "    \n",
    "    \n"
   ]
  },
  {
   "cell_type": "code",
   "execution_count": 21,
   "metadata": {},
   "outputs": [
    {
     "data": {
      "image/png": "[encoded data removed]",
      "text/plain": [
       "<matplotlib.figure.Figure at 0x22494c3eba8>"
      ]
     },
     "metadata": {},
     "output_type": "display_data"
    }
   ],
   "source": [
    "confusion_mtx = confusion_matrix(y_test, y_pred) \n",
    "dict_characters = {0: '0', 1: '1'}\n",
    "plot_confusion_matrix(confusion_mtx, classes = list(dict_characters.values())) \n"
   ]
  },
  {
   "cell_type": "code",
   "execution_count": null,
   "metadata": {},
   "outputs": [],
   "source": []
  }
 ],
 "metadata": {
  "kernelspec": {
   "display_name": "Python 3",
   "language": "python",
   "name": "python3"
  },
  "language_info": {
   "codemirror_mode": {
    "name": "ipython",
    "version": 3
   },
   "file_extension": ".py",
   "mimetype": "text/x-python",
   "name": "python",
   "nbconvert_exporter": "python",
   "pygments_lexer": "ipython3",
   "version": "3.6.3"
  }
 },
 "nbformat": 4,
 "nbformat_minor": 2
}
